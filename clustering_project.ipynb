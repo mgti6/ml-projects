{
 "cells": [
  {
   "cell_type": "markdown",
   "id": "23b847d0",
   "metadata": {},
   "source": [
    "# Projet de Clustering Complet\n",
    "\n",
    "Ce notebook simule un jeu de données, prétraite les données, applique DBSCAN et K‑Means, puis visualise et résume les résultats."
   ]
  },
  {
   "cell_type": "code",
   "execution_count": null,
   "id": "f39f4e09",
   "metadata": {},
   "outputs": [],
   "source": [
    "import numpy as np\n",
    "import pandas as pd\n",
    "from sklearn.preprocessing import StandardScaler\n",
    "from sklearn.decomposition import PCA\n",
    "from sklearn.cluster import DBSCAN, KMeans\n",
    "from sklearn.metrics import silhouette_score\n",
    "import matplotlib.pyplot as plt\n",
    "\n",
    "# 1. Simulation du dataset\n",
    "n_rows = 13000\n",
    "np.random.seed(42)\n",
    "\n",
    "# Catégorielles\n",
    "fund_types = ['Equity', 'FixedIncome', 'Mixed']\n",
    "funds = [f'Fund_{i}' for i in range(1, 21)]\n",
    "sub_funds = [f'SubFund_{i}' for i in range(1, 101)]\n",
    "fund_type_col = np.random.choice(fund_types, n_rows)\n",
    "fund_col = np.random.choice(funds, n_rows)\n",
    "sub_fund_col = np.random.choice(sub_funds, n_rows)\n",
    "\n",
    "# NAV et AUM\n",
    "NAV = np.random.lognormal(mean=2, sigma=0.5, size=n_rows) * 1e6\n",
    "AUM = NAV * np.random.uniform(0.8, 1.2, size=n_rows)\n",
    "\n",
    "# Positions longues (123_*)\n",
    "long_cols = {f'123_{i}': np.random.normal(loc=1e5, scale=5e4, size=n_rows) for i in range(1, 51)}\n",
    "# Positions short (124_*)\n",
    "short_cols = {f'124_{i}': np.random.normal(loc=5e4, scale=2e4, size=n_rows) for i in range(1, 51)}\n",
    "# Autres variables\n",
    "feat_cols = {f'feat_{i}': np.random.normal(size=n_rows) for i in range(1, 36)}\n",
    "\n",
    "df = pd.DataFrame({\n",
    "    'fund_type': fund_type_col,\n",
    "    'fund': fund_col,\n",
    "    'sub_fund': sub_fund_col,\n",
    "    'NAV': NAV,\n",
    "    'AUM': AUM,\n",
    "    **long_cols,\n",
    "    **short_cols,\n",
    "    **feat_cols\n",
    "})\n",
    "\n",
    "df.head()"
   ]
  },
  {
   "cell_type": "code",
   "execution_count": null,
   "id": "baeabcac",
   "metadata": {},
   "outputs": [],
   "source": [
    "# 2. Préparation pour clustering\n",
    "num_cols = [c for c in df.columns if c not in ['fund_type', 'fund', 'sub_fund']]\n",
    "X = df[num_cols].values\n",
    "scaler = StandardScaler()\n",
    "X_scaled = scaler.fit_transform(X)\n"
   ]
  },
  {
   "cell_type": "code",
   "execution_count": null,
   "id": "4ff3b8df",
   "metadata": {},
   "outputs": [],
   "source": [
    "# 3. Réduction de dimension pour DBSCAN\n",
    "pca_10 = PCA(n_components=10, random_state=42)\n",
    "X_pca_10 = pca_10.fit_transform(X_scaled)\n"
   ]
  },
  {
   "cell_type": "code",
   "execution_count": null,
   "id": "150bbd1e",
   "metadata": {},
   "outputs": [],
   "source": [
    "# 4. Clustering DBSCAN\n",
    "dbscan = DBSCAN(eps=0.5, min_samples=5)\n",
    "labels_db = dbscan.fit_predict(X_pca_10)\n",
    "unique, counts = np.unique(labels_db, return_counts=True)\n",
    "print(\"DBSCAN clusters et tailles :\", dict(zip(unique, counts)))\n"
   ]
  },
  {
   "cell_type": "code",
   "execution_count": null,
   "id": "a1b17bb7",
   "metadata": {},
   "outputs": [],
   "source": [
    "# Visualisation 2D PCA des clusters DBSCAN\n",
    "pca_2 = PCA(n_components=2, random_state=42)\n",
    "X_pca_2 = pca_2.fit_transform(X_scaled)\n",
    "plt.figure(figsize=(8,5))\n",
    "plt.scatter(X_pca_2[:, 0], X_pca_2[:, 1], c=labels_db, s=1)\n",
    "plt.title('Clusters DBSCAN (2 premières composantes PCA)')\n",
    "plt.xlabel('PC1')\n",
    "plt.ylabel('PC2')\n",
    "plt.show()\n"
   ]
  },
  {
   "cell_type": "code",
   "execution_count": null,
   "id": "d7164a92",
   "metadata": {},
   "outputs": [],
   "source": [
    "# 5. Clustering K‑Means\n",
    "k = 5\n",
    "kmeans = KMeans(n_clusters=k, random_state=42)\n",
    "labels_km = kmeans.fit_predict(X_scaled)\n",
    "print(\"Silhouette score K‑Means :\", silhouette_score(X_scaled, labels_km))\n"
   ]
  },
  {
   "cell_type": "code",
   "execution_count": null,
   "id": "6f35aff5",
   "metadata": {},
   "outputs": [],
   "source": [
    "plt.figure(figsize=(8,5))\n",
    "plt.scatter(X_pca_2[:, 0], X_pca_2[:, 1], c=labels_km, s=1)\n",
    "plt.title('Clusters K‑Means (2 premières composantes PCA)')\n",
    "plt.xlabel('PC1')\n",
    "plt.ylabel('PC2')\n",
    "plt.show()\n"
   ]
  },
  {
   "cell_type": "code",
   "execution_count": null,
   "id": "e38d4be9",
   "metadata": {},
   "outputs": [],
   "source": [
    "# 6. Résumé des clusters K‑Means pour NAV et AUM\n",
    "df['cluster_km'] = labels_km\n",
    "cluster_summary = df.groupby('cluster_km')[['NAV', 'AUM']].mean().reset_index()\n",
    "cluster_summary"
   ]
  }
 ],
 "metadata": {},
 "nbformat": 4,
 "nbformat_minor": 5
}
